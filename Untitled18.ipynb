{
 "cells": [
  {
   "cell_type": "markdown",
   "id": "92d1cf1a",
   "metadata": {},
   "source": [
    "# Text Retrieval-  DF-IDF"
   ]
  },
  {
   "cell_type": "markdown",
   "id": "009a6262",
   "metadata": {},
   "source": [
    "#### To start, we’ll import the necessary libraries."
   ]
  },
  {
   "cell_type": "code",
   "execution_count": 18,
   "id": "45087148",
   "metadata": {},
   "outputs": [],
   "source": [
    "import pandas as pd\n",
    "from sklearn.feature_extraction.text import TfidfVectorizer\n",
    "import numpy as np\n",
    "from scipy.spatial import distance"
   ]
  },
  {
   "cell_type": "markdown",
   "id": "a59834bd",
   "metadata": {},
   "source": [
    "#### Simple example."
   ]
  },
  {
   "cell_type": "code",
   "execution_count": 20,
   "id": "3eb4b922",
   "metadata": {},
   "outputs": [],
   "source": [
    "documentA = 'The child head out to the pumpkin patch'\n",
    "documentB = 'The man sit in a chair'"
   ]
  },
  {
   "cell_type": "markdown",
   "id": "4b5547df",
   "metadata": {},
   "source": [
    "#### bag of words model. "
   ]
  },
  {
   "cell_type": "code",
   "execution_count": 23,
   "id": "472dce47",
   "metadata": {},
   "outputs": [
    {
     "name": "stdout",
     "output_type": "stream",
     "text": [
      "['The', 'child', 'head', 'out', 'to', 'the', 'pumpkin', 'patch']\n",
      "['The', 'man', 'sit', 'in', 'a', 'chair']\n"
     ]
    }
   ],
   "source": [
    "bagOfWordsA = documentA.split(' ')\n",
    "bagOfWordsB = documentB.split(' ')\n",
    "print(bagOfWordsA)\n",
    "print(bagOfWordsB)"
   ]
  },
  {
   "cell_type": "markdown",
   "id": "c8bf6f43",
   "metadata": {},
   "source": [
    "#### build dictionary"
   ]
  },
  {
   "cell_type": "code",
   "execution_count": 24,
   "id": "208334c3",
   "metadata": {},
   "outputs": [],
   "source": [
    "uniqueWords = set(bagOfWordsA).union(set(bagOfWordsB))"
   ]
  },
  {
   "cell_type": "code",
   "execution_count": 25,
   "id": "8f96c354",
   "metadata": {},
   "outputs": [
    {
     "name": "stdout",
     "output_type": "stream",
     "text": [
      "{'The': 1, 'head': 1, 'to': 1, 'chair': 0, 'child': 1, 'out': 1, 'pumpkin': 1, 'sit': 0, 'patch': 1, 'man': 0, 'a': 0, 'in': 0, 'the': 1}\n",
      "{'The': 1, 'head': 0, 'to': 0, 'chair': 1, 'child': 0, 'out': 0, 'pumpkin': 0, 'sit': 1, 'patch': 0, 'man': 1, 'a': 1, 'in': 1, 'the': 0}\n"
     ]
    }
   ],
   "source": [
    "numOfWordsA = dict.fromkeys(uniqueWords, 0)\n",
    "for word in bagOfWordsA:\n",
    "    numOfWordsA[word] += 1\n",
    "numOfWordsB = dict.fromkeys(uniqueWords, 0)\n",
    "for word in bagOfWordsB:\n",
    "    numOfWordsB[word] += 1\n",
    "print(numOfWordsA)\n",
    "print(numOfWordsB)"
   ]
  },
  {
   "cell_type": "code",
   "execution_count": 26,
   "id": "48c0b795",
   "metadata": {},
   "outputs": [],
   "source": [
    "def computeTF(wordDict, bagOfWords):\n",
    "    tfDict = {}\n",
    "    bagOfWordsCount = len(bagOfWords)\n",
    "    for word, count in wordDict.items():\n",
    "        tfDict[word] = count / float(bagOfWordsCount)\n",
    "    return tfDict"
   ]
  },
  {
   "cell_type": "code",
   "execution_count": 27,
   "id": "c8fc0df7",
   "metadata": {},
   "outputs": [
    {
     "name": "stdout",
     "output_type": "stream",
     "text": [
      "{'The': 0.125, 'head': 0.125, 'to': 0.125, 'chair': 0.0, 'child': 0.125, 'out': 0.125, 'pumpkin': 0.125, 'sit': 0.0, 'patch': 0.125, 'man': 0.0, 'a': 0.0, 'in': 0.0, 'the': 0.125}\n",
      "{'The': 0.16666666666666666, 'head': 0.0, 'to': 0.0, 'chair': 0.16666666666666666, 'child': 0.0, 'out': 0.0, 'pumpkin': 0.0, 'sit': 0.16666666666666666, 'patch': 0.0, 'man': 0.16666666666666666, 'a': 0.16666666666666666, 'in': 0.16666666666666666, 'the': 0.0}\n"
     ]
    }
   ],
   "source": [
    "tfA = computeTF(numOfWordsA, bagOfWordsA)\n",
    "tfB = computeTF(numOfWordsB, bagOfWordsB)\n",
    "print(tfA)\n",
    "print(tfB)"
   ]
  },
  {
   "cell_type": "code",
   "execution_count": 28,
   "id": "a5d08756",
   "metadata": {},
   "outputs": [],
   "source": [
    "def computeIDF(documents):\n",
    "    import math\n",
    "    N = len(documents)\n",
    "\n",
    "    idfDict = dict.fromkeys(documents[0].keys(), 0)\n",
    "    for document in documents:\n",
    "        for word, val in document.items():\n",
    "            if val > 0:\n",
    "                idfDict[word] += 1\n",
    "\n",
    "    for word, val in idfDict.items():\n",
    "        idfDict[word] = math.log(1+N / float(val))\n",
    "    return idfDict"
   ]
  },
  {
   "cell_type": "code",
   "execution_count": 29,
   "id": "237d15be",
   "metadata": {},
   "outputs": [
    {
     "name": "stdout",
     "output_type": "stream",
     "text": [
      "{'The': 0.6931471805599453, 'head': 1.0986122886681098, 'to': 1.0986122886681098, 'chair': 1.0986122886681098, 'child': 1.0986122886681098, 'out': 1.0986122886681098, 'pumpkin': 1.0986122886681098, 'sit': 1.0986122886681098, 'patch': 1.0986122886681098, 'man': 1.0986122886681098, 'a': 1.0986122886681098, 'in': 1.0986122886681098, 'the': 1.0986122886681098}\n"
     ]
    }
   ],
   "source": [
    "idfs = computeIDF([numOfWordsA, numOfWordsB])\n",
    "print(idfs)"
   ]
  },
  {
   "cell_type": "markdown",
   "id": "2b200252",
   "metadata": {},
   "source": [
    "### Now you need to complete the function computeTFIDF:"
   ]
  },
  {
   "cell_type": "code",
   "execution_count": 32,
   "id": "9e087844",
   "metadata": {},
   "outputs": [],
   "source": [
    "def computeTFIDF(tfBagOfWords, idfs):\n",
    "    tfidf = {key: tfBagOfWords.get(key,1)*idfs.get(key,1) for key in set(tfBagOfWords)|set(idfs)}\n",
    "    return tfidf\n",
    "    tfidf_sum=sum(tfidf.values())\n",
    "    print(tfidf_sum)"
   ]
  },
  {
   "cell_type": "code",
   "execution_count": 33,
   "id": "59fafd67",
   "metadata": {},
   "outputs": [
    {
     "data": {
      "text/html": [
       "<div>\n",
       "<style scoped>\n",
       "    .dataframe tbody tr th:only-of-type {\n",
       "        vertical-align: middle;\n",
       "    }\n",
       "\n",
       "    .dataframe tbody tr th {\n",
       "        vertical-align: top;\n",
       "    }\n",
       "\n",
       "    .dataframe thead th {\n",
       "        text-align: right;\n",
       "    }\n",
       "</style>\n",
       "<table border=\"1\" class=\"dataframe\">\n",
       "  <thead>\n",
       "    <tr style=\"text-align: right;\">\n",
       "      <th></th>\n",
       "      <th>The</th>\n",
       "      <th>head</th>\n",
       "      <th>child</th>\n",
       "      <th>out</th>\n",
       "      <th>a</th>\n",
       "      <th>the</th>\n",
       "      <th>to</th>\n",
       "      <th>chair</th>\n",
       "      <th>pumpkin</th>\n",
       "      <th>sit</th>\n",
       "      <th>patch</th>\n",
       "      <th>man</th>\n",
       "      <th>in</th>\n",
       "    </tr>\n",
       "  </thead>\n",
       "  <tbody>\n",
       "    <tr>\n",
       "      <th>0</th>\n",
       "      <td>0.086643</td>\n",
       "      <td>0.137327</td>\n",
       "      <td>0.137327</td>\n",
       "      <td>0.137327</td>\n",
       "      <td>0.000000</td>\n",
       "      <td>0.137327</td>\n",
       "      <td>0.137327</td>\n",
       "      <td>0.000000</td>\n",
       "      <td>0.137327</td>\n",
       "      <td>0.000000</td>\n",
       "      <td>0.137327</td>\n",
       "      <td>0.000000</td>\n",
       "      <td>0.000000</td>\n",
       "    </tr>\n",
       "    <tr>\n",
       "      <th>1</th>\n",
       "      <td>0.115525</td>\n",
       "      <td>0.000000</td>\n",
       "      <td>0.000000</td>\n",
       "      <td>0.000000</td>\n",
       "      <td>0.183102</td>\n",
       "      <td>0.000000</td>\n",
       "      <td>0.000000</td>\n",
       "      <td>0.183102</td>\n",
       "      <td>0.000000</td>\n",
       "      <td>0.183102</td>\n",
       "      <td>0.000000</td>\n",
       "      <td>0.183102</td>\n",
       "      <td>0.183102</td>\n",
       "    </tr>\n",
       "  </tbody>\n",
       "</table>\n",
       "</div>"
      ],
      "text/plain": [
       "        The      head     child       out         a       the        to  \\\n",
       "0  0.086643  0.137327  0.137327  0.137327  0.000000  0.137327  0.137327   \n",
       "1  0.115525  0.000000  0.000000  0.000000  0.183102  0.000000  0.000000   \n",
       "\n",
       "      chair   pumpkin       sit     patch       man        in  \n",
       "0  0.000000  0.137327  0.000000  0.137327  0.000000  0.000000  \n",
       "1  0.183102  0.000000  0.183102  0.000000  0.183102  0.183102  "
      ]
     },
     "execution_count": 33,
     "metadata": {},
     "output_type": "execute_result"
    }
   ],
   "source": [
    "tfidfA = computeTFIDF(tfA, idfs)\n",
    "tfidfB = computeTFIDF(tfB, idfs)\n",
    "df = pd.DataFrame([tfidfA, tfidfB])\n",
    "df.head()"
   ]
  },
  {
   "cell_type": "code",
   "execution_count": 34,
   "id": "9de7e343",
   "metadata": {},
   "outputs": [
    {
     "name": "stdout",
     "output_type": "stream",
     "text": [
      "[0.0866434  0.13732654 0.13732654 0.13732654 0.         0.13732654\n",
      " 0.13732654 0.         0.13732654 0.         0.13732654 0.\n",
      " 0.        ]\n",
      "[0.11552453 0.         0.         0.         0.18310205 0.\n",
      " 0.         0.18310205 0.         0.18310205 0.         0.18310205\n",
      " 0.18310205]\n"
     ]
    }
   ],
   "source": [
    "tfidfA_v=np.array(list(tfidfA.values()))\n",
    "tfidfB_v=np.array(list(tfidfB.values()))\n",
    "print(tfidfA_v)\n",
    "print(tfidfB_v)"
   ]
  },
  {
   "cell_type": "code",
   "execution_count": 35,
   "id": "6cbad499",
   "metadata": {},
   "outputs": [
    {
     "name": "stdout",
     "output_type": "stream",
     "text": [
      "0.06299170724076686\n"
     ]
    }
   ],
   "source": [
    "score=1-distance.cosine(tfidfA_v, tfidfB_v)\n",
    "print(score)"
   ]
  },
  {
   "cell_type": "markdown",
   "id": "9c2bf906",
   "metadata": {},
   "source": [
    "#### Rather than manually implementing TF-IDF as above, we could use the library provided by sklearn."
   ]
  },
  {
   "cell_type": "code",
   "execution_count": null,
   "id": "ea7e35c1",
   "metadata": {},
   "outputs": [],
   "source": [
    "documentA = 'run fast'\n",
    "documentB = 'The man sit in a pumpkin chair'"
   ]
  },
  {
   "cell_type": "code",
   "execution_count": 14,
   "id": "3026c1ab",
   "metadata": {},
   "outputs": [
    {
     "name": "stdout",
     "output_type": "stream",
     "text": [
      "(2, 11)\n",
      "[[0.         0.35300279 0.35300279 0.         0.         0.35300279\n",
      "  0.35300279 0.35300279 0.         0.50232878 0.35300279]\n",
      " [0.47107781 0.         0.         0.47107781 0.47107781 0.\n",
      "  0.         0.         0.47107781 0.33517574 0.        ]]\n"
     ]
    },
    {
     "data": {
      "text/html": [
       "<div>\n",
       "<style scoped>\n",
       "    .dataframe tbody tr th:only-of-type {\n",
       "        vertical-align: middle;\n",
       "    }\n",
       "\n",
       "    .dataframe tbody tr th {\n",
       "        vertical-align: top;\n",
       "    }\n",
       "\n",
       "    .dataframe thead th {\n",
       "        text-align: right;\n",
       "    }\n",
       "</style>\n",
       "<table border=\"1\" class=\"dataframe\">\n",
       "  <thead>\n",
       "    <tr style=\"text-align: right;\">\n",
       "      <th></th>\n",
       "      <th>chair</th>\n",
       "      <th>child</th>\n",
       "      <th>head</th>\n",
       "      <th>in</th>\n",
       "      <th>man</th>\n",
       "      <th>out</th>\n",
       "      <th>patch</th>\n",
       "      <th>pumpkin</th>\n",
       "      <th>sit</th>\n",
       "      <th>the</th>\n",
       "      <th>to</th>\n",
       "    </tr>\n",
       "  </thead>\n",
       "  <tbody>\n",
       "    <tr>\n",
       "      <th>0</th>\n",
       "      <td>0.000000</td>\n",
       "      <td>0.353003</td>\n",
       "      <td>0.353003</td>\n",
       "      <td>0.000000</td>\n",
       "      <td>0.000000</td>\n",
       "      <td>0.353003</td>\n",
       "      <td>0.353003</td>\n",
       "      <td>0.353003</td>\n",
       "      <td>0.000000</td>\n",
       "      <td>0.502329</td>\n",
       "      <td>0.353003</td>\n",
       "    </tr>\n",
       "    <tr>\n",
       "      <th>1</th>\n",
       "      <td>0.471078</td>\n",
       "      <td>0.000000</td>\n",
       "      <td>0.000000</td>\n",
       "      <td>0.471078</td>\n",
       "      <td>0.471078</td>\n",
       "      <td>0.000000</td>\n",
       "      <td>0.000000</td>\n",
       "      <td>0.000000</td>\n",
       "      <td>0.471078</td>\n",
       "      <td>0.335176</td>\n",
       "      <td>0.000000</td>\n",
       "    </tr>\n",
       "  </tbody>\n",
       "</table>\n",
       "</div>"
      ],
      "text/plain": [
       "      chair     child      head        in       man       out     patch  \\\n",
       "0  0.000000  0.353003  0.353003  0.000000  0.000000  0.353003  0.353003   \n",
       "1  0.471078  0.000000  0.000000  0.471078  0.471078  0.000000  0.000000   \n",
       "\n",
       "    pumpkin       sit       the        to  \n",
       "0  0.353003  0.000000  0.502329  0.353003  \n",
       "1  0.000000  0.471078  0.335176  0.000000  "
      ]
     },
     "execution_count": 14,
     "metadata": {},
     "output_type": "execute_result"
    }
   ],
   "source": [
    "vectorizer = TfidfVectorizer()\n",
    "vectors = vectorizer.fit_transform([documentA, documentB])\n",
    "feature_names = vectorizer.get_feature_names_out()\n",
    "dense = vectors.todense()\n",
    "print(dense.shape)\n",
    "print(dense)\n",
    "denselist = dense.tolist()\n",
    "df = pd.DataFrame(denselist, columns=feature_names)\n",
    "df.head()"
   ]
  },
  {
   "cell_type": "code",
   "execution_count": null,
   "id": "54652558",
   "metadata": {},
   "outputs": [],
   "source": [
    "score=1-distance.cosine(dense[0,].A1, dense[1,].A1)\n",
    "print(score)"
   ]
  }
 ],
 "metadata": {
  "kernelspec": {
   "display_name": "Python 3 (ipykernel)",
   "language": "python",
   "name": "python3"
  },
  "language_info": {
   "codemirror_mode": {
    "name": "ipython",
    "version": 3
   },
   "file_extension": ".py",
   "mimetype": "text/x-python",
   "name": "python",
   "nbconvert_exporter": "python",
   "pygments_lexer": "ipython3",
   "version": "3.11.4"
  }
 },
 "nbformat": 4,
 "nbformat_minor": 5
}
